{
 "cells": [
  {
   "cell_type": "code",
   "execution_count": 4,
   "id": "b0d758ba-144c-4960-a2e9-272b7385f5c7",
   "metadata": {},
   "outputs": [
    {
     "name": "stdout",
     "output_type": "stream",
     "text": [
      "0\n",
      "0\n",
      "0\n",
      "1\n",
      "Weights:  [0.19385852 0.1564567 ]\n",
      "Bias:  -0.30265144539570504\n"
     ]
    }
   ],
   "source": [
    "import numpy as np\n",
    "\n",
    "class Perceptron:\n",
    "    def __init__(self, learning_rate=0.1, epochs=100):\n",
    "        self.learning_rate = learning_rate\n",
    "        self.epochs = epochs\n",
    "\n",
    "    def fit(self, X, y):\n",
    "        self.weights = np.random.rand(X.shape[1])\n",
    "        self.bias = np.random.rand()\n",
    "        for _ in range(self.epochs):\n",
    "            for inputs, target in zip(X, y):\n",
    "                prediction = self.predict(inputs)\n",
    "                error = target - prediction\n",
    "                self.weights += self.learning_rate * error * inputs\n",
    "                self.bias += self.learning_rate * error\n",
    "\n",
    "    def predict(self, inputs):\n",
    "        weighted_sum = np.dot(inputs, self.weights) + self.bias\n",
    "        return self._activation(weighted_sum)\n",
    "\n",
    "    def _activation(self, z):\n",
    "        return 1 if z >= 0 else 0\n",
    "\n",
    "# Create the Perceptron model\n",
    "model = Perceptron()\n",
    "\n",
    "# Define input data and labels\n",
    "X = np.array([[0,0],[0,1],[1,0],[1,1]])\n",
    "y = np.array([0,0,0,1])\n",
    "\n",
    "# Train the model\n",
    "model.fit(X, y)\n",
    "\n",
    "# Make predictions\n",
    "print(model.predict([0,0]))\n",
    "print(model.predict([0,1]))\n",
    "print(model.predict([1,0]))\n",
    "print(model.predict([1,1]))\n",
    "\n",
    "# Print weights and bias\n",
    "print(\"Weights: \", model.weights)\n",
    "print(\"Bias: \", model.bias)\n"
   ]
  },
  {
   "cell_type": "code",
   "execution_count": null,
   "id": "79270aef-9f05-41f2-b80d-21bacad90cca",
   "metadata": {},
   "outputs": [],
   "source": []
  }
 ],
 "metadata": {
  "kernelspec": {
   "display_name": "Python 3 (ipykernel)",
   "language": "python",
   "name": "python3"
  },
  "language_info": {
   "codemirror_mode": {
    "name": "ipython",
    "version": 3
   },
   "file_extension": ".py",
   "mimetype": "text/x-python",
   "name": "python",
   "nbconvert_exporter": "python",
   "pygments_lexer": "ipython3",
   "version": "3.12.4"
  }
 },
 "nbformat": 4,
 "nbformat_minor": 5
}
